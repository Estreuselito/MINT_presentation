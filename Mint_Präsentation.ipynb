{
  "nbformat": 4,
  "nbformat_minor": 0,
  "metadata": {
    "colab": {
      "name": "Mint Präsentation.ipynb",
      "provenance": [],
      "collapsed_sections": []
    },
    "kernelspec": {
      "name": "python3",
      "display_name": "Python 3"
    },
    "language_info": {
      "name": "python"
    }
  },
  "cells": [
    {
      "cell_type": "markdown",
      "metadata": {
        "id": "Rypf5Ilb_dtf"
      },
      "source": [
        "# Herzlich Willkommen\n",
        "\n",
        "- Addition (`+`)\n",
        "- Subtraktion (`-`)\n",
        "- Multiplikation (`*`)\n",
        "- Division (`/`)\n",
        "\n",
        "Ein Beispiel:"
      ]
    },
    {
      "cell_type": "code",
      "metadata": {
        "id": "BvoyJ4Ol7bYP",
        "colab": {
          "base_uri": "https://localhost:8080/"
        },
        "outputId": "7dbdd9ce-dc72-4440-f277-15f8a079b023"
      },
      "source": [
        "(4 * 8) - (12 / 3) + 2"
      ],
      "execution_count": 8,
      "outputs": [
        {
          "output_type": "execute_result",
          "data": {
            "text/plain": [
              "30.0"
            ]
          },
          "metadata": {},
          "execution_count": 8
        }
      ]
    },
    {
      "cell_type": "markdown",
      "metadata": {
        "id": "tWS-t9MA7ij8"
      },
      "source": [
        "# Aufbau einer Funktion\n",
        "\n",
        "Eine Funktion besteht immer aus einem `def` statement und braucht ein `return` statement.\n",
        "\n",
        "```Python\n",
        "def funktion(x, y):\n",
        "  return x + y\n",
        "```\n",
        "\n",
        "Eure Aufgabe ist es jetzt, einen kleinen Taschenrechner zu bauen, welche die oben genannten vier Operationen von Addition, Subtraktion, Multiplikation und Division beinhaltet. Dabei möchte ich der Funktion eine dieser vier Rechenoperationen mitgeben sowie zwei Zahlen. Ein Beispiel:\n",
        "\n",
        "```Python\n",
        "Taschenrechner(4, 4, \"Multipliktation\")\n",
        ">> 16\n",
        "```\n",
        "\n",
        "Hier findet ihr bereit einen Anfang:"
      ]
    },
    {
      "cell_type": "code",
      "metadata": {
        "id": "xoNo_zRRA_Xz"
      },
      "source": [
        "def Taschenrechner(Rechenoperation, Zahl1, Zahl2):\n",
        "    \"\"\"Diese Funktion überprüft die Rechenoperation und\n",
        "    gibt je nach dem ein Ergebnis zurück.\n",
        "\n",
        "    Parameters\n",
        "    ----------\n",
        "    Rechenoperation : Text in \"\"\n",
        "        Diese Variable bestimmt, welche Operation ausgeführt\n",
        "        werden soll. Beachtet dabei, dass ihr beim ausprobieren\n",
        "        immer Anführungsstriche um die genannte Operation setzt.\n",
        "        Z.B.: \"Addition\".\n",
        "    Zahl1 : eine Nummer\n",
        "        Die erste Zahl, diese muss dabei OHNE Anführungszeichen\n",
        "        gegeben werden.\n",
        "    Zahl2 : eine Nummer\n",
        "        Die zweite Zahl, diese muss dabei OHNE Anführungszeichen\n",
        "        gegeben werden.\n",
        "    \n",
        "    Returns\n",
        "    -------\n",
        "    Ergebnis : eine Zahl\n",
        "    \"\"\" \n",
        "    if Rechenoperation == \"...\" # Hier kommt eine Rechenoperation in die \"...\"\n",
        "        return ... # Hier kommt die mathematische Operation"
      ],
      "execution_count": null,
      "outputs": []
    }
  ]
}